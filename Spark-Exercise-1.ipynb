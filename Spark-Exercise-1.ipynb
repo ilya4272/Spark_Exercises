{
 "cells": [
  {
   "cell_type": "markdown",
   "metadata": {},
   "source": [
    "### 1- Upload Libraries"
   ]
  },
  {
   "cell_type": "code",
   "execution_count": 276,
   "metadata": {},
   "outputs": [],
   "source": [
    "import pyspark\n",
    "from pyspark.sql import SparkSession\n",
    "\n",
    "import pyspark.sql.functions as f"
   ]
  },
  {
   "cell_type": "code",
   "execution_count": 277,
   "metadata": {},
   "outputs": [],
   "source": [
    "spark = SparkSession.builder.appName('Practise').getOrCreate()"
   ]
  },
  {
   "cell_type": "markdown",
   "metadata": {},
   "source": [
    "### 2- Read Data"
   ]
  },
  {
   "cell_type": "code",
   "execution_count": 278,
   "metadata": {},
   "outputs": [],
   "source": [
    "df = spark.read.csv('/Users/...', sep = '\\t')"
   ]
  },
  {
   "cell_type": "code",
   "execution_count": 279,
   "metadata": {},
   "outputs": [
    {
     "name": "stdout",
     "output_type": "stream",
     "text": [
      "+--------+--------+--------------------+------------------+----------+\n",
      "|     _c0|     _c1|                 _c2|               _c3|       _c4|\n",
      "+--------+--------+--------------------+------------------+----------+\n",
      "|order_id|quantity|           item_name|choice_description|item_price|\n",
      "|       1|       1|Chips and Fresh T...|              NULL|    $2.39 |\n",
      "|       1|       1|                Izze|      [Clementine]|    $3.39 |\n",
      "|       1|       1|    Nantucket Nectar|           [Apple]|    $3.39 |\n",
      "|       1|       1|Chips and Tomatil...|              NULL|    $2.39 |\n",
      "+--------+--------+--------------------+------------------+----------+\n",
      "only showing top 5 rows\n",
      "\n"
     ]
    }
   ],
   "source": [
    "# Show only first 5 rows\n",
    "df.show(5)"
   ]
  },
  {
   "cell_type": "markdown",
   "metadata": {},
   "source": [
    "### 3-  Convert data headers original header"
   ]
  },
  {
   "cell_type": "code",
   "execution_count": 280,
   "metadata": {},
   "outputs": [
    {
     "name": "stdout",
     "output_type": "stream",
     "text": [
      "+--------+--------+--------------------+------------------+----------+\n",
      "|order_id|quantity|           item_name|choice_description|item_price|\n",
      "+--------+--------+--------------------+------------------+----------+\n",
      "|       1|       1|Chips and Fresh T...|              NULL|    $2.39 |\n",
      "|       1|       1|                Izze|      [Clementine]|    $3.39 |\n",
      "+--------+--------+--------------------+------------------+----------+\n",
      "only showing top 2 rows\n",
      "\n"
     ]
    }
   ],
   "source": [
    "df = spark.read.option('header','true').csv('/Users/ilyasozgur/Desktop/Data_Science/Pandas/Data/Exercise1.csv', sep = '\\t', inferSchema = True)\n",
    "\n",
    "df.show(2)"
   ]
  },
  {
   "cell_type": "markdown",
   "metadata": {},
   "source": [
    "### 4- Total Number of Rows"
   ]
  },
  {
   "cell_type": "code",
   "execution_count": 281,
   "metadata": {},
   "outputs": [
    {
     "name": "stdout",
     "output_type": "stream",
     "text": [
      "(4622, 5)\n"
     ]
    }
   ],
   "source": [
    "# Total number of observation in the dataset\n",
    "print((df.count(), len(df.columns)))"
   ]
  },
  {
   "cell_type": "markdown",
   "metadata": {},
   "source": [
    "### 5- Total Number of Columns"
   ]
  },
  {
   "cell_type": "code",
   "execution_count": 282,
   "metadata": {},
   "outputs": [
    {
     "data": {
      "text/plain": [
       "5"
      ]
     },
     "execution_count": 282,
     "metadata": {},
     "output_type": "execute_result"
    }
   ],
   "source": [
    "# The number of columns of the dataset\n",
    "\n",
    "len(df.columns)"
   ]
  },
  {
   "cell_type": "markdown",
   "metadata": {},
   "source": [
    "### 6- Print Name of Columns"
   ]
  },
  {
   "cell_type": "code",
   "execution_count": 283,
   "metadata": {},
   "outputs": [
    {
     "data": {
      "text/plain": [
       "['order_id', 'quantity', 'item_name', 'choice_description', 'item_price']"
      ]
     },
     "execution_count": 283,
     "metadata": {},
     "output_type": "execute_result"
    }
   ],
   "source": [
    "# Print the name of the columns \n",
    "\n",
    "df.columns "
   ]
  },
  {
   "cell_type": "markdown",
   "metadata": {},
   "source": [
    "### 7-  Which was the most ordered item?"
   ]
  },
  {
   "cell_type": "code",
   "execution_count": 284,
   "metadata": {},
   "outputs": [
    {
     "name": "stdout",
     "output_type": "stream",
     "text": [
      "+--------+--------+--------------------+------------------+----------+\n",
      "|order_id|quantity|           item_name|choice_description|item_price|\n",
      "+--------+--------+--------------------+------------------+----------+\n",
      "|       1|       1|Chips and Fresh T...|              NULL|    $2.39 |\n",
      "|       1|       1|                Izze|      [Clementine]|    $3.39 |\n",
      "+--------+--------+--------------------+------------------+----------+\n",
      "only showing top 2 rows\n",
      "\n"
     ]
    }
   ],
   "source": [
    "df.show(2)"
   ]
  },
  {
   "cell_type": "code",
   "execution_count": 285,
   "metadata": {},
   "outputs": [
    {
     "name": "stdout",
     "output_type": "stream",
     "text": [
      "+------------+-----------+\n",
      "|   item_name|Total_Order|\n",
      "+------------+-----------+\n",
      "|Chicken Bowl|        761|\n",
      "+------------+-----------+\n",
      "only showing top 1 row\n",
      "\n"
     ]
    }
   ],
   "source": [
    "# Groupby \n",
    "df_most_ordered_item = df.groupBy('item_name').sum('quantity')\n",
    "\n",
    "# Rename the columns \n",
    "df_most_ordered_item = df_most_ordered_item.withColumnRenamed('sum(quantity)','Total_Order')\n",
    "\n",
    "# Sort By\n",
    "df_most_ordered_item = df_most_ordered_item.orderBy('Total_Order', ascending=False)\n",
    "\n",
    "df_most_ordered_item.show(1)"
   ]
  },
  {
   "cell_type": "markdown",
   "metadata": {},
   "source": [
    "### 8-  What is the most ordered item in choice description column?"
   ]
  },
  {
   "cell_type": "code",
   "execution_count": 286,
   "metadata": {},
   "outputs": [
    {
     "name": "stdout",
     "output_type": "stream",
     "text": [
      "+------------------+-----------+\n",
      "|choice_description|Total_Order|\n",
      "+------------------+-----------+\n",
      "|       [Diet Coke]|        159|\n",
      "+------------------+-----------+\n",
      "only showing top 1 row\n",
      "\n"
     ]
    }
   ],
   "source": [
    "# Groupby \n",
    "df_most_ordered_item_cd = df.groupBy('choice_description').sum('quantity')\n",
    "\n",
    "# Rename the columns \n",
    "df_most_ordered_item_cd = df_most_ordered_item_cd.withColumnRenamed('sum(quantity)','Total_Order')\n",
    "\n",
    "# Sort By\n",
    "df_most_ordered_item_cd = df_most_ordered_item_cd.orderBy('Total_Order', ascending=False)\n",
    "\n",
    "# Drop Null values\n",
    "df_most_ordered_item_cd = df_most_ordered_item_cd.na.drop(how = 'any', subset=['choice_description'])\n",
    "\n",
    "# Filter data Frame\n",
    "df_most_ordered_item_cd = df_most_ordered_item_cd.filter(df_most_ordered_item_cd['choice_description'] != 'NULL')\n",
    "\n",
    "df_most_ordered_item_cd.show(1)"
   ]
  },
  {
   "cell_type": "markdown",
   "metadata": {},
   "source": [
    "### 9- How many item ordered in total?"
   ]
  },
  {
   "cell_type": "code",
   "execution_count": 287,
   "metadata": {},
   "outputs": [
    {
     "name": "stdout",
     "output_type": "stream",
     "text": [
      "+-------------+\n",
      "|sum(quantity)|\n",
      "+-------------+\n",
      "|         4972|\n",
      "+-------------+\n",
      "\n"
     ]
    }
   ],
   "source": [
    "# Groupby \n",
    "df_item_count = df.groupBy().sum('quantity')\n",
    "df_item_count.show()"
   ]
  },
  {
   "cell_type": "code",
   "execution_count": 288,
   "metadata": {},
   "outputs": [
    {
     "data": {
      "text/plain": [
       "4972"
      ]
     },
     "execution_count": 288,
     "metadata": {},
     "output_type": "execute_result"
    }
   ],
   "source": [
    "# Take sum of the specific column\n",
    "\n",
    "import pyspark.sql.functions as f   \n",
    "\n",
    "df_item_count = df.select(f.sum('quantity')).collect()[0][0]\n",
    "df_item_count"
   ]
  },
  {
   "cell_type": "markdown",
   "metadata": {},
   "source": [
    "### 10- Check Column DataType and Split the column content and Convert into Float"
   ]
  },
  {
   "cell_type": "code",
   "execution_count": 289,
   "metadata": {},
   "outputs": [
    {
     "data": {
      "text/plain": [
       "[('order_id', 'int'),\n",
       " ('quantity', 'int'),\n",
       " ('item_name', 'string'),\n",
       " ('choice_description', 'string'),\n",
       " ('item_price', 'string')]"
      ]
     },
     "execution_count": 289,
     "metadata": {},
     "output_type": "execute_result"
    }
   ],
   "source": [
    "# Check data types for the dataset\n",
    "\n",
    "df.dtypes"
   ]
  },
  {
   "cell_type": "code",
   "execution_count": 290,
   "metadata": {},
   "outputs": [
    {
     "name": "stdout",
     "output_type": "stream",
     "text": [
      "+--------+--------+--------------------+------------------+----------+\n",
      "|order_id|quantity|           item_name|choice_description|item_price|\n",
      "+--------+--------+--------------------+------------------+----------+\n",
      "|       1|       1|Chips and Fresh T...|              NULL|    $2.39 |\n",
      "|       1|       1|                Izze|      [Clementine]|    $3.39 |\n",
      "+--------+--------+--------------------+------------------+----------+\n",
      "only showing top 2 rows\n",
      "\n"
     ]
    }
   ],
   "source": [
    "df.show(2)"
   ]
  },
  {
   "cell_type": "code",
   "execution_count": 291,
   "metadata": {},
   "outputs": [
    {
     "name": "stdout",
     "output_type": "stream",
     "text": [
      "+--------+--------+--------------------+------------------+----------+\n",
      "|order_id|quantity|           item_name|choice_description|item_price|\n",
      "+--------+--------+--------------------+------------------+----------+\n",
      "|       1|       1|Chips and Fresh T...|              NULL|     $2.39|\n",
      "|       1|       1|                Izze|      [Clementine]|     $3.39|\n",
      "+--------+--------+--------------------+------------------+----------+\n",
      "only showing top 2 rows\n",
      "\n"
     ]
    }
   ],
   "source": [
    "# Trim the columns\n",
    "\n",
    "from pyspark.sql.functions import trim\n",
    "\n",
    "df_trimmed = df.withColumn(\"item_price\", trim(df['item_price']))\n",
    "\n",
    "df_trimmed.show(2)"
   ]
  },
  {
   "cell_type": "code",
   "execution_count": 292,
   "metadata": {},
   "outputs": [
    {
     "name": "stdout",
     "output_type": "stream",
     "text": [
      "+--------+--------+--------------------+------------------+----------+\n",
      "|order_id|quantity|           item_name|choice_description|item_price|\n",
      "+--------+--------+--------------------+------------------+----------+\n",
      "|       1|       1|Chips and Fresh T...|              NULL|      2.39|\n",
      "|       1|       1|                Izze|      [Clementine]|      3.39|\n",
      "+--------+--------+--------------------+------------------+----------+\n",
      "only showing top 2 rows\n",
      "\n"
     ]
    }
   ],
   "source": [
    "# Clean up the '$' sign from the item_price column, only numbers\n",
    "\n",
    "from pyspark.sql.functions import regexp_replace\n",
    "\n",
    "df_trimmed = df_trimmed.withColumn(\"item_price\",regexp_replace(\"item_price\",\"[^0-9a-zA-Z_\\-.]+\", \"\"))\n",
    "\n",
    "df_trimmed.show(2)"
   ]
  },
  {
   "cell_type": "code",
   "execution_count": 293,
   "metadata": {},
   "outputs": [
    {
     "name": "stdout",
     "output_type": "stream",
     "text": [
      "root\n",
      " |-- order_id: integer (nullable = true)\n",
      " |-- quantity: integer (nullable = true)\n",
      " |-- item_name: string (nullable = true)\n",
      " |-- choice_description: string (nullable = true)\n",
      " |-- item_price: string (nullable = true)\n",
      "\n",
      "+--------+--------+--------------------+------------------+----------+\n",
      "|order_id|quantity|           item_name|choice_description|item_price|\n",
      "+--------+--------+--------------------+------------------+----------+\n",
      "|       1|       1|Chips and Fresh T...|              NULL|      2.39|\n",
      "|       1|       1|                Izze|      [Clementine]|      3.39|\n",
      "+--------+--------+--------------------+------------------+----------+\n",
      "only showing top 2 rows\n",
      "\n"
     ]
    }
   ],
   "source": [
    "# Check column datatypes\n",
    "\n",
    "df_trimmed.printSchema()\n",
    "df_trimmed.show(2)"
   ]
  },
  {
   "cell_type": "code",
   "execution_count": 295,
   "metadata": {},
   "outputs": [
    {
     "name": "stdout",
     "output_type": "stream",
     "text": [
      "root\n",
      " |-- order_id: integer (nullable = true)\n",
      " |-- quantity: integer (nullable = true)\n",
      " |-- item_name: string (nullable = true)\n",
      " |-- choice_description: string (nullable = true)\n",
      " |-- item_price: float (nullable = true)\n",
      "\n",
      "+--------+--------+--------------------+------------------+----------+\n",
      "|order_id|quantity|           item_name|choice_description|item_price|\n",
      "+--------+--------+--------------------+------------------+----------+\n",
      "|       1|       1|Chips and Fresh T...|              NULL|      2.39|\n",
      "|       1|       1|                Izze|      [Clementine]|      3.39|\n",
      "+--------+--------+--------------------+------------------+----------+\n",
      "only showing top 2 rows\n",
      "\n"
     ]
    }
   ],
   "source": [
    "# Change datatypes of the column\n",
    "\n",
    "df_trimmed = df_trimmed.withColumn(\"item_price\", df_trimmed['item_price'].cast('float'))\n",
    "\n",
    "df_trimmed.printSchema()\n",
    "df_trimmed.show(2)"
   ]
  }
 ],
 "metadata": {
  "kernelspec": {
   "display_name": "Python 3",
   "language": "python",
   "name": "python3"
  },
  "language_info": {
   "codemirror_mode": {
    "name": "ipython",
    "version": 3
   },
   "file_extension": ".py",
   "mimetype": "text/x-python",
   "name": "python",
   "nbconvert_exporter": "python",
   "pygments_lexer": "ipython3",
   "version": "3.7.4"
  }
 },
 "nbformat": 4,
 "nbformat_minor": 2
}
